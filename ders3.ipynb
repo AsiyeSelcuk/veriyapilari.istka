{
  "nbformat": 4,
  "nbformat_minor": 0,
  "metadata": {
    "colab": {
      "provenance": []
    },
    "kernelspec": {
      "name": "python3",
      "display_name": "Python 3"
    },
    "language_info": {
      "name": "python"
    }
  },
  "cells": [
    {
      "cell_type": "code",
      "execution_count": 1,
      "metadata": {
        "colab": {
          "base_uri": "https://localhost:8080/"
        },
        "id": "hvqnjeRTuwkS",
        "outputId": "267b0700-211e-43d0-9128-05ffe30cfb60"
      },
      "outputs": [
        {
          "output_type": "stream",
          "name": "stdout",
          "text": [
            "Merhaba, İGÜ -İSTKA / Ders 3\n"
          ]
        }
      ],
      "source": [
        "print (\"Merhaba, İGÜ -İSTKA / Ders 3\")"
      ]
    },
    {
      "cell_type": "code",
      "source": [
        "import sys # import python programlama dilinde yazılıma kütüphane eklemeye yarayan bir kod blogudur.\n",
        "print(sys.version)"
      ],
      "metadata": {
        "colab": {
          "base_uri": "https://localhost:8080/"
        },
        "id": "hmMaZBMkykL0",
        "outputId": "29e753d3-6467-41fc-ca0c-03dcee5ed42b"
      },
      "execution_count": 2,
      "outputs": [
        {
          "output_type": "stream",
          "name": "stdout",
          "text": [
            "3.10.12 (main, Jul 29 2024, 16:56:48) [GCC 11.4.0]\n"
          ]
        }
      ]
    },
    {
      "cell_type": "code",
      "source": [
        "from google.colab import drive # google colab - drive bağlantısı\n",
        "drive.mount('/content/drive')"
      ],
      "metadata": {
        "colab": {
          "base_uri": "https://localhost:8080/"
        },
        "id": "0oVe_9sIzIc9",
        "outputId": "43a51a91-7589-4593-b360-bbdf3ebd2886"
      },
      "execution_count": 4,
      "outputs": [
        {
          "output_type": "stream",
          "name": "stdout",
          "text": [
            "Mounted at /content/drive\n"
          ]
        }
      ]
    },
    {
      "cell_type": "code",
      "source": [
        "import os\n",
        "os.chdir ('/content/drive/My Drive/veriyapilari.istka')"
      ],
      "metadata": {
        "id": "3RadLms5ztne"
      },
      "execution_count": 10,
      "outputs": []
    },
    {
      "cell_type": "code",
      "source": [
        "# if Koşul yapısı\n",
        "\n",
        "x=10\n",
        "\n",
        "if x > 5:\n",
        "    print(\"x, 5'ten büyüktür.\")"
      ],
      "metadata": {
        "colab": {
          "base_uri": "https://localhost:8080/"
        },
        "id": "ubrI51Oc3ein",
        "outputId": "de39892a-8db9-4a5e-8ccc-4c1cd1a57e45"
      },
      "execution_count": 13,
      "outputs": [
        {
          "output_type": "stream",
          "name": "stdout",
          "text": [
            "x, 5'ten büyüktür.\n"
          ]
        }
      ]
    },
    {
      "cell_type": "code",
      "source": [
        "# if-else Koşulu yapısı\n",
        "\n",
        "x=3\n",
        "\n",
        "if x > 5:\n",
        "    print(\"x, 5'ten büyüktür.\")\n",
        "\n",
        "else:\n",
        "   print(\"x, 5'ten küçük veya eşittir.\")\n"
      ],
      "metadata": {
        "colab": {
          "base_uri": "https://localhost:8080/"
        },
        "id": "MeUaEgLQ0oAu",
        "outputId": "a5e383f6-5fa2-4e47-983e-8e3eb34a4e22"
      },
      "execution_count": 18,
      "outputs": [
        {
          "output_type": "stream",
          "name": "stdout",
          "text": [
            "x, 5'ten küçük veya eşittir.\n"
          ]
        }
      ]
    },
    {
      "cell_type": "code",
      "source": [
        "# if-elif-else Koşul yapısı\n",
        "\n",
        "x=8\n",
        "\n",
        "if x > 10:\n",
        "   print(\"x, 10'dan büyüktür.\")\n",
        "\n",
        "elif x > 5:\n",
        "   print(\"x, 5'ten büyüktür ama 10'dan küçük veya eşittir.\")\n",
        "\n",
        "\n",
        "else:\n",
        "    print(\"x, 5'ten küçük veya eşittir.\")"
      ],
      "metadata": {
        "colab": {
          "base_uri": "https://localhost:8080/"
        },
        "id": "N6R8DbRc52DA",
        "outputId": "955288ef-61cd-4b4f-c3de-839b50060ce0"
      },
      "execution_count": 20,
      "outputs": [
        {
          "output_type": "stream",
          "name": "stdout",
          "text": [
            "x, 5'ten büyüktür ama 10'dan küçük veya eşittir.\n"
          ]
        }
      ]
    },
    {
      "cell_type": "code",
      "source": [
        "# iç içe Koşul yapısı\n",
        "\n",
        "x = 12\n",
        "y = 8\n",
        "\n",
        "if x > 10:\n",
        "  if y> 5:\n",
        "     print(\"x, 10'dan büyük ve y, 5'ten büyüktür.\") # Bu satır çalışır\n",
        "  else:\n",
        "     print(\"x, 10'dan büyük ama y, 5'ten küçük veya eşittir.\")\n",
        "\n",
        "else:\n",
        "  print(\"10'dan küçük veya eşittir.\")"
      ],
      "metadata": {
        "colab": {
          "base_uri": "https://localhost:8080/"
        },
        "id": "XO6GrwEd65ax",
        "outputId": "0b1e3389-f6a5-4f78-f88b-59d7a2d43beb"
      },
      "execution_count": 23,
      "outputs": [
        {
          "output_type": "stream",
          "name": "stdout",
          "text": [
            "x, 10'dan büyük ve y, 5'ten büyüktür.\n"
          ]
        }
      ]
    },
    {
      "cell_type": "code",
      "source": [
        "# Mantıksal operatörler ile koşullar\n",
        "\n",
        "x = 7\n",
        "y = 3\n",
        "\n",
        "# 'and' operatörü ile\n",
        "if x > 5 and y > 2:\n",
        "  print(\"x, 5'ten büyük ve y, 2'den büyüktür.\") # bu satır çalışır\n",
        "\n",
        "# 'or' operatörü ile\n",
        "if x > 5 or y > 5:\n",
        "   print(\"x veya y, 5'ten büyüktür.\") #bu satır çalışır\n",
        "\n",
        "# 'not' operatorü ile\n",
        "if not  (x > 10):\n",
        "   print(\"x, 10'dan büyük değildir.\") # bu satır çalışır"
      ],
      "metadata": {
        "colab": {
          "base_uri": "https://localhost:8080/"
        },
        "id": "lYy9-YppE0Sj",
        "outputId": "9b3c48a6-1686-4211-8af5-6f854333b5fd"
      },
      "execution_count": 26,
      "outputs": [
        {
          "output_type": "stream",
          "name": "stdout",
          "text": [
            "x, 5'ten büyük ve y, 2'den büyüktür.\n",
            "x veya y, 5'ten büyüktür.\n",
            "x, 10'dan büyük değildir.\n"
          ]
        }
      ]
    },
    {
      "cell_type": "code",
      "source": [
        "# örnek 1: Not sistemi\n",
        "\n",
        "notu = 85 #not farkı gösterilecek...\n",
        "\n",
        "if notu >= 90:\n",
        "  print(\"harf notu: a\")\n",
        "\n",
        "elif notu >= 80:\n",
        "  print(\"harf notu: b\")\n",
        "\n",
        "elif notu >= 70:\n",
        "  print(\"harf notu: c\")\n",
        "\n",
        "elif notu >= 60:\n",
        "  print(\"harf notu: d\")\n",
        "\n",
        "else:\n",
        "  print(\"harf notu f\")\n",
        "\n",
        "\n"
      ],
      "metadata": {
        "colab": {
          "base_uri": "https://localhost:8080/"
        },
        "id": "-hydDBHTGrzc",
        "outputId": "bef85f9b-52e0-438c-f0d3-9630076e4a57"
      },
      "execution_count": 27,
      "outputs": [
        {
          "output_type": "stream",
          "name": "stdout",
          "text": [
            "harf notu: b\n"
          ]
        }
      ]
    },
    {
      "cell_type": "code",
      "source": [
        "# örnek 2: yaş kontrolü\n",
        "\n",
        "yas = 2\n",
        "\n",
        "if yas < 18:\n",
        "  print(\"reşit değilsiniz.\")\n",
        "elif yas < 21:\n",
        "  print(\"reşitsiniz ama içecek satın alamazsınız.\")\n",
        "else:\n",
        "  print (\"içecek satın alab,lirsiniz.\")"
      ],
      "metadata": {
        "colab": {
          "base_uri": "https://localhost:8080/"
        },
        "id": "lgppubE9H85E",
        "outputId": "87e142d9-b9e7-4e4e-ced4-a8c75e789045"
      },
      "execution_count": 31,
      "outputs": [
        {
          "output_type": "stream",
          "name": "stdout",
          "text": [
            "reşitsiniz ama içecek satın alamazsınız.\n"
          ]
        }
      ]
    },
    {
      "cell_type": "code",
      "source": [
        "# örnek 3:  sayı pozitif, negatif veya sıfır mı?\n",
        "\n",
        "sayi = int(input(\"bir sayı gir\"))\n",
        "if sayi > 0:\n",
        "  print(\"sayı pozitiftir.\")\n",
        "elif sayi < 0:\n",
        "  print(\"sayı negatif değildir.\")\n",
        "else:\n",
        "  print(\"sayı sıfırdır\")"
      ],
      "metadata": {
        "colab": {
          "base_uri": "https://localhost:8080/"
        },
        "id": "eKeq-uS5I2pz",
        "outputId": "3173ca39-849b-4b8b-a9b6-77980b1b1927"
      },
      "execution_count": 32,
      "outputs": [
        {
          "output_type": "stream",
          "name": "stdout",
          "text": [
            "bir sayı gir12\n",
            "sayı pozitiftir.\n"
          ]
        }
      ]
    },
    {
      "cell_type": "code",
      "source": [],
      "metadata": {
        "id": "4yxAeMWBJqPc"
      },
      "execution_count": null,
      "outputs": []
    }
  ]
}