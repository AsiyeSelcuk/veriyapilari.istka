{
  "nbformat": 4,
  "nbformat_minor": 0,
  "metadata": {
    "colab": {
      "provenance": []
    },
    "kernelspec": {
      "name": "python3",
      "display_name": "Python 3"
    },
    "language_info": {
      "name": "python"
    }
  },
  "cells": [
    {
      "cell_type": "code",
      "execution_count": 1,
      "metadata": {
        "colab": {
          "base_uri": "https://localhost:8080/"
        },
        "id": "ZJycdShNbkW8",
        "outputId": "c071b020-2de5-4dc0-8d54-9f13cf10bca6"
      },
      "outputs": [
        {
          "output_type": "stream",
          "name": "stdout",
          "text": [
            "Merhaba, İGÜ - İSTKA / Ders 7\n"
          ]
        }
      ],
      "source": [
        "print(\"Merhaba, İGÜ - İSTKA / Ders 7\")"
      ]
    },
    {
      "cell_type": "code",
      "source": [
        "import sys # import python programlama dilinde yazılıma kütüphane eklemeye yarayan bir kod blogudur.\n",
        "print(sys.version)"
      ],
      "metadata": {
        "colab": {
          "base_uri": "https://localhost:8080/"
        },
        "id": "mMi820zOp7lQ",
        "outputId": "266dc345-7c5c-481e-9ff0-a3905d18ff3f"
      },
      "execution_count": 2,
      "outputs": [
        {
          "output_type": "stream",
          "name": "stdout",
          "text": [
            "3.10.12 (main, Jul 29 2024, 16:56:48) [GCC 11.4.0]\n"
          ]
        }
      ]
    },
    {
      "cell_type": "code",
      "source": [
        "from google.colab import drive # google colab - drive bağlantısı\n",
        "\n",
        "drive.mount('/content/drive')\n",
        "\n"
      ],
      "metadata": {
        "colab": {
          "base_uri": "https://localhost:8080/"
        },
        "id": "qBeQctWpp-CA",
        "outputId": "616f3749-4e6b-4b82-fe0c-c16def8ac97d"
      },
      "execution_count": 3,
      "outputs": [
        {
          "output_type": "stream",
          "name": "stdout",
          "text": [
            "Mounted at /content/drive\n"
          ]
        }
      ]
    },
    {
      "cell_type": "code",
      "source": [
        "import os\n",
        "\n",
        "os.chdir('/content/drive/My Drive/veriyapilari.istka')\n",
        "\n",
        "!pwd # bize kodun çıktısını dosya yolu olarak veren kod blogudur."
      ],
      "metadata": {
        "colab": {
          "base_uri": "https://localhost:8080/"
        },
        "id": "YA3ruvfzi4zm",
        "outputId": "75d5b5c9-8f57-4c17-b097-448aa4026876"
      },
      "execution_count": 13,
      "outputs": [
        {
          "output_type": "stream",
          "name": "stdout",
          "text": [
            "/content/drive/My Drive/veriyapilari.istka\n"
          ]
        }
      ]
    },
    {
      "cell_type": "code",
      "source": [
        "\n",
        "isim_listesi = [\"Ali\", \"Şerafettin\", \"Osman\", \"İclal\", \"Ayşe\"]\n",
        "\n",
        "def en_uzun_ismi_bul(isim_listesi):\n",
        "    en_uzun_isim = isim_listesi[0]  # Başlangıçta ilk ismi en uzun olarak varsayıyoruz\n",
        "    for isim in isim_listesi:\n",
        "        if len(isim) > len(en_uzun_isim):\n",
        "            en_uzun_isim = isim  # Daha uzun bir isim bulunursa, en uzun ismi güncelliyoruz\n",
        "    return en_uzun_isim\n",
        "\n",
        "def en_uzun_isim_indeksi_bul(isim_listesi):\n",
        "    en_uzun_indeks = 0  # Başlangıçta ilk ismin indeksini en uzun olarak varsayıyoruz\n",
        "    en_uzun_uzunluk = len(isim_listesi[0])  # İlk ismin uzunluğunu alıyoruz\n",
        "\n",
        "    for i in range(len(isim_listesi)):\n",
        "        if len(isim_listesi[i]) > en_uzun_uzunluk:\n",
        "            en_uzun_uzunluk = len(isim_listesi[i])\n",
        "            en_uzun_indeks = i  # Daha uzun bir isim bulunursa, en uzun ismin indeksini güncelliyoruz\n",
        "\n",
        "    return en_uzun_indeks\n",
        "\n",
        "en_uzun_isim = en_uzun_ismi_bul(isim_listesi)\n",
        "en_uzun_indeks = en_uzun_isim_indeksi_bul(isim_listesi)\n",
        "\n",
        "print(\"En uzun isim: \", en_uzun_isim)\n",
        "print(\"En uzun ismin liste adresi: \", en_uzun_indeks)"
      ],
      "metadata": {
        "colab": {
          "base_uri": "https://localhost:8080/"
        },
        "id": "ekatH5Npvf2B",
        "outputId": "d9f0bf37-9b21-48b7-e6b4-429959312979"
      },
      "execution_count": 21,
      "outputs": [
        {
          "output_type": "stream",
          "name": "stdout",
          "text": [
            "En uzun isim:  Şerafettin\n",
            "En uzun ismin liste adresi:  1\n"
          ]
        }
      ]
    },
    {
      "cell_type": "code",
      "source": [
        "Sayi_dizisi = []\n",
        "sayi = 1\n",
        "\n",
        "while sayi <= 175:\n",
        "    if sayi % 13 == 0:\n",
        "        Sayi_dizisi.append(sayi)\n",
        "    sayi += 1\n",
        "\n",
        "# Sonucu ekrana yazdır\n",
        "print(\"1 ile 175 arasındaki 13'e bölünen sayılar:\", Sayi_dizisi)\n",
        "print(\"Toplam sayı adeti: \", len(Sayi_dizisi))\n"
      ],
      "metadata": {
        "colab": {
          "base_uri": "https://localhost:8080/"
        },
        "id": "R4mXcmiVw2nA",
        "outputId": "2e7499ec-be9e-4c48-98be-655c89ca77f4"
      },
      "execution_count": 22,
      "outputs": [
        {
          "output_type": "stream",
          "name": "stdout",
          "text": [
            "1 ile 175 arasındaki 13'e bölünen sayılar: [13, 26, 39, 52, 65, 78, 91, 104, 117, 130, 143, 156, 169]\n",
            "Toplam sayı adeti:  13\n"
          ]
        }
      ]
    },
    {
      "cell_type": "code",
      "source": [
        "import pandas as pd\n",
        "\n",
        "VeriSetiYolu = '/content/drive/My Drive/veriyapilariistka/veriseti'\n",
        "\n",
        "for file in os.listdir(VeriSetiYolu):                         # Klasördeki tüm dosyaları listele\n",
        "\n",
        "    if file.endswith(('.xlsx', '.xls')):                     # Sadece Excel dosyalarını seç\n",
        "\n",
        "        df = pd.read_excel(os.path.join(VeriSetiYolu, file))  # Excel dosyasını pandas ile oku\n",
        "\n",
        "        df.to_csv(os.path.join(VeriSetiYolu, file.rsplit('.', 1)[0] + '.csv'), index=False)\n",
        "                                                               # DataFrame'i CSV formatında kaydet\n",
        "        print(f\"{file} dosyası CSV formatına çevrildi.\")     # Çevrim İşlemi Çıktısı\n",
        "\n",
        "# İşlem tamamlandığında kaç tane excel dosyası var ise o kadar *.csv formatına çevildiğinin\n",
        "# bilgisini almaktayız"
      ],
      "metadata": {
        "colab": {
          "base_uri": "https://localhost:8080/"
        },
        "id": "nz3ldZhM_2R6",
        "outputId": "16d06f94-854f-4f76-f0a0-655d22489009"
      },
      "execution_count": 31,
      "outputs": [
        {
          "output_type": "stream",
          "name": "stdout",
          "text": [
            "atktan-geri-kazanm-miktarlar (1).xlsx dosyası CSV formatına çevrildi.\n"
          ]
        }
      ]
    }
  ]
}